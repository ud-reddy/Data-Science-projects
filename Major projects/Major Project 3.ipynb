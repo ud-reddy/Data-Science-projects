{
 "cells": [
  {
   "cell_type": "code",
   "execution_count": 1,
   "id": "1fb8dc30",
   "metadata": {},
   "outputs": [],
   "source": [
    "import pandas as pd\n",
    "import numpy as np\n",
    "df = pd.read_csv('final.csv')"
   ]
  },
  {
   "cell_type": "code",
   "execution_count": 2,
   "id": "b218159e",
   "metadata": {},
   "outputs": [
    {
     "data": {
      "text/html": [
       "<div>\n",
       "<style scoped>\n",
       "    .dataframe tbody tr th:only-of-type {\n",
       "        vertical-align: middle;\n",
       "    }\n",
       "\n",
       "    .dataframe tbody tr th {\n",
       "        vertical-align: top;\n",
       "    }\n",
       "\n",
       "    .dataframe thead th {\n",
       "        text-align: right;\n",
       "    }\n",
       "</style>\n",
       "<table border=\"1\" class=\"dataframe\">\n",
       "  <thead>\n",
       "    <tr style=\"text-align: right;\">\n",
       "      <th></th>\n",
       "      <th>name</th>\n",
       "      <th>year</th>\n",
       "      <th>duration</th>\n",
       "      <th>genre</th>\n",
       "      <th>rating</th>\n",
       "      <th>director</th>\n",
       "      <th>type</th>\n",
       "    </tr>\n",
       "  </thead>\n",
       "  <tbody>\n",
       "    <tr>\n",
       "      <th>0</th>\n",
       "      <td>The Shawshank Redemption</td>\n",
       "      <td>1994</td>\n",
       "      <td>142</td>\n",
       "      <td>Drama</td>\n",
       "      <td>9.3</td>\n",
       "      <td>Frank Darabont</td>\n",
       "      <td>Movie</td>\n",
       "    </tr>\n",
       "    <tr>\n",
       "      <th>1</th>\n",
       "      <td>The Godfather</td>\n",
       "      <td>1972</td>\n",
       "      <td>175</td>\n",
       "      <td>Crime,Drama</td>\n",
       "      <td>9.2</td>\n",
       "      <td>Francis Ford Coppola</td>\n",
       "      <td>Movie</td>\n",
       "    </tr>\n",
       "    <tr>\n",
       "      <th>2</th>\n",
       "      <td>The Dark Knight</td>\n",
       "      <td>2008</td>\n",
       "      <td>152</td>\n",
       "      <td>Action,Crime,Drama</td>\n",
       "      <td>9.0</td>\n",
       "      <td>Christopher Nolan</td>\n",
       "      <td>Movie</td>\n",
       "    </tr>\n",
       "    <tr>\n",
       "      <th>3</th>\n",
       "      <td>The Godfather: Part II</td>\n",
       "      <td>1974</td>\n",
       "      <td>202</td>\n",
       "      <td>Crime,Drama</td>\n",
       "      <td>9.0</td>\n",
       "      <td>Francis Ford Coppola</td>\n",
       "      <td>Movie</td>\n",
       "    </tr>\n",
       "    <tr>\n",
       "      <th>4</th>\n",
       "      <td>12 Angry Men</td>\n",
       "      <td>1957</td>\n",
       "      <td>96</td>\n",
       "      <td>Crime,Drama</td>\n",
       "      <td>9.0</td>\n",
       "      <td>Sidney Lumet</td>\n",
       "      <td>Movie</td>\n",
       "    </tr>\n",
       "    <tr>\n",
       "      <th>...</th>\n",
       "      <td>...</td>\n",
       "      <td>...</td>\n",
       "      <td>...</td>\n",
       "      <td>...</td>\n",
       "      <td>...</td>\n",
       "      <td>...</td>\n",
       "      <td>...</td>\n",
       "    </tr>\n",
       "    <tr>\n",
       "      <th>1245</th>\n",
       "      <td>Garth Marenghi's Darkplace</td>\n",
       "      <td>2004</td>\n",
       "      <td>30</td>\n",
       "      <td>Nan</td>\n",
       "      <td>8.4</td>\n",
       "      <td>Richard Ayoade,Matt Berry,Matthew Holness</td>\n",
       "      <td>Series</td>\n",
       "    </tr>\n",
       "    <tr>\n",
       "      <th>1246</th>\n",
       "      <td>Vikings</td>\n",
       "      <td>2013</td>\n",
       "      <td>44</td>\n",
       "      <td>Action,Adventure,Drama</td>\n",
       "      <td>8.4</td>\n",
       "      <td>Katheryn Winnick,Gustaf Skarsgård,Alexander Lu...</td>\n",
       "      <td>Series</td>\n",
       "    </tr>\n",
       "    <tr>\n",
       "      <th>1247</th>\n",
       "      <td>Avrupa Yakasi</td>\n",
       "      <td>2004</td>\n",
       "      <td>60</td>\n",
       "      <td>Nan</td>\n",
       "      <td>8.4</td>\n",
       "      <td>Gülse Birsel,Levent Üzümcü,Senay Gürler</td>\n",
       "      <td>Series</td>\n",
       "    </tr>\n",
       "    <tr>\n",
       "      <th>1248</th>\n",
       "      <td>Sseulsseulhago Chalranhashin: Dokkaebi</td>\n",
       "      <td>2016</td>\n",
       "      <td>120</td>\n",
       "      <td>Comedy,Drama,Fantasy</td>\n",
       "      <td>8.4</td>\n",
       "      <td>Gong Yoo,Kim Go-eun,Lee Dong-Wook</td>\n",
       "      <td>Series</td>\n",
       "    </tr>\n",
       "    <tr>\n",
       "      <th>1249</th>\n",
       "      <td>Normal People</td>\n",
       "      <td>2020</td>\n",
       "      <td>339</td>\n",
       "      <td>Drama,Romance</td>\n",
       "      <td>8.4</td>\n",
       "      <td>Daisy Edgar-Jones,Paul Mescal,Desmond Eastwood</td>\n",
       "      <td>Series</td>\n",
       "    </tr>\n",
       "  </tbody>\n",
       "</table>\n",
       "<p>1250 rows × 7 columns</p>\n",
       "</div>"
      ],
      "text/plain": [
       "                                        name  year  duration  \\\n",
       "0                   The Shawshank Redemption  1994       142   \n",
       "1                              The Godfather  1972       175   \n",
       "2                            The Dark Knight  2008       152   \n",
       "3                     The Godfather: Part II  1974       202   \n",
       "4                               12 Angry Men  1957        96   \n",
       "...                                      ...   ...       ...   \n",
       "1245              Garth Marenghi's Darkplace  2004        30   \n",
       "1246                                 Vikings  2013        44   \n",
       "1247                           Avrupa Yakasi  2004        60   \n",
       "1248  Sseulsseulhago Chalranhashin: Dokkaebi  2016       120   \n",
       "1249                           Normal People  2020       339   \n",
       "\n",
       "                       genre  rating  \\\n",
       "0                      Drama     9.3   \n",
       "1                Crime,Drama     9.2   \n",
       "2         Action,Crime,Drama     9.0   \n",
       "3                Crime,Drama     9.0   \n",
       "4                Crime,Drama     9.0   \n",
       "...                      ...     ...   \n",
       "1245                     Nan     8.4   \n",
       "1246  Action,Adventure,Drama     8.4   \n",
       "1247                     Nan     8.4   \n",
       "1248    Comedy,Drama,Fantasy     8.4   \n",
       "1249           Drama,Romance     8.4   \n",
       "\n",
       "                                               director    type  \n",
       "0                                        Frank Darabont   Movie  \n",
       "1                                  Francis Ford Coppola   Movie  \n",
       "2                                     Christopher Nolan   Movie  \n",
       "3                                  Francis Ford Coppola   Movie  \n",
       "4                                          Sidney Lumet   Movie  \n",
       "...                                                 ...     ...  \n",
       "1245          Richard Ayoade,Matt Berry,Matthew Holness  Series  \n",
       "1246  Katheryn Winnick,Gustaf Skarsgård,Alexander Lu...  Series  \n",
       "1247            Gülse Birsel,Levent Üzümcü,Senay Gürler  Series  \n",
       "1248                  Gong Yoo,Kim Go-eun,Lee Dong-Wook  Series  \n",
       "1249     Daisy Edgar-Jones,Paul Mescal,Desmond Eastwood  Series  \n",
       "\n",
       "[1250 rows x 7 columns]"
      ]
     },
     "execution_count": 2,
     "metadata": {},
     "output_type": "execute_result"
    }
   ],
   "source": [
    "df"
   ]
  },
  {
   "cell_type": "markdown",
   "id": "e7c362af",
   "metadata": {},
   "source": [
    "## 1. Asking the user to select a movie"
   ]
  },
  {
   "cell_type": "code",
   "execution_count": 16,
   "id": "d4220bc3",
   "metadata": {},
   "outputs": [
    {
     "name": "stdout",
     "output_type": "stream",
     "text": [
      "Enter a movie name : The Godfather: Part II\n"
     ]
    }
   ],
   "source": [
    "movie = input(\"Enter a movie name : \")\n",
    "if movie not in list(df['name']):\n",
    "    print(\"Movie unavailable in the Dataset !!\")"
   ]
  },
  {
   "cell_type": "markdown",
   "id": "b16107dc",
   "metadata": {},
   "source": [
    "## 2. Finding the directors of the movie the user selected"
   ]
  },
  {
   "cell_type": "code",
   "execution_count": 17,
   "id": "91fcdf87",
   "metadata": {},
   "outputs": [
    {
     "name": "stdout",
     "output_type": "stream",
     "text": [
      "Directors of The Godfather: Part II are : \n",
      "---------------------------------------------\n",
      "Francis Ford Coppola\n",
      "---------------------------------------------\n"
     ]
    }
   ],
   "source": [
    "print(\"Directors of\",movie,'are : ')\n",
    "print('-'*45)\n",
    "for i in list(df[df['name']==movie]['director'])[0].split(','):\n",
    "    print(i)\n",
    "print('-'*45)"
   ]
  },
  {
   "cell_type": "markdown",
   "id": "9c980e86",
   "metadata": {},
   "source": [
    "## 3. Recommending top 10 movies based on the directors of the movie the user chose"
   ]
  },
  {
   "cell_type": "code",
   "execution_count": 18,
   "id": "5fee6cc0",
   "metadata": {},
   "outputs": [
    {
     "name": "stdout",
     "output_type": "stream",
     "text": [
      "Top Movie Recommendations : \n",
      "---------------------------------------------\n",
      "The Godfather\n",
      "The Godfather: Part II\n",
      "Apocalypse Now\n",
      "The Conversation\n",
      "The Godfather: Part III\n",
      "---------------------------------------------\n"
     ]
    }
   ],
   "source": [
    "direc = list(df[df['name']==movie]['director'])[0].split(',')       # Creating a dataframe of the recommendable movies\n",
    "data = []\n",
    "for i in direc:\n",
    "    for j in df.values:\n",
    "        if i in j[5]:\n",
    "            data.append([j[0],j[5]])\n",
    "pdf = pd.DataFrame(data,columns=['name','directors'])\n",
    "\n",
    "data = []\n",
    "for i in pdf['name'].unique():                                     # Removing duplicate entries\n",
    "    for j in pdf.values:\n",
    "        if i==j[0]:\n",
    "            data.append(j)\n",
    "            break\n",
    "pdf = pd.DataFrame(data,columns = ['name','director'])\n",
    "\n",
    "match = []                                                        # match column indicates how many directors match with the\n",
    "for i in pdf.values:                                              # directors of the movie the user chose \n",
    "    c = 0\n",
    "    for j in list(df[df['name']==movie]['director'])[0].split(','):\n",
    "        if j in i[1]:\n",
    "            c+=1\n",
    "    match.append(c)\n",
    "pdf['match']=match\n",
    "\n",
    "print('Top Movie Recommendations : ')                             # Printing the top 10 movie recommendations\n",
    "print('-'*45)\n",
    "for i in pdf['name']:\n",
    "    print(i)\n",
    "print('-'*45)"
   ]
  },
  {
   "cell_type": "markdown",
   "id": "499983be",
   "metadata": {},
   "source": [
    "## 4) Recommending movies based on the name of the movie the user selected"
   ]
  },
  {
   "cell_type": "code",
   "execution_count": 47,
   "id": "deaab3ed",
   "metadata": {},
   "outputs": [
    {
     "name": "stdout",
     "output_type": "stream",
     "text": [
      "Recommended movies based on the Name of the movie selected : \n",
      "------------------------------------------------------------\n",
      "The Godfather\n",
      "The Godfather: Part II\n",
      "The Godfather: Part III\n",
      "------------------------------------------------------------\n"
     ]
    }
   ],
   "source": [
    "s=''\n",
    "for i in movie.split(' '):\n",
    "    if ':' in i:\n",
    "        s=s+' '+i\n",
    "        break\n",
    "    elif i.isnumeric():\n",
    "        continue\n",
    "    else:\n",
    "        s=s+' '+i\n",
    "s = s.strip()\n",
    "s = s.replace(':','')\n",
    "\n",
    "data = []\n",
    "for i in df.values:\n",
    "    if s in i[0]:\n",
    "        data.append(i[0])\n",
    "sdf = pd.DataFrame(data,columns =['name'])\n",
    "\n",
    "print(\"Recommended movies based on the Name of the movie selected : \")\n",
    "print('-'*60)\n",
    "for i in sdf.values:\n",
    "    print(i[0])\n",
    "print('-'*60)"
   ]
  }
 ],
 "metadata": {
  "kernelspec": {
   "display_name": "Python 3 (ipykernel)",
   "language": "python",
   "name": "python3"
  },
  "language_info": {
   "codemirror_mode": {
    "name": "ipython",
    "version": 3
   },
   "file_extension": ".py",
   "mimetype": "text/x-python",
   "name": "python",
   "nbconvert_exporter": "python",
   "pygments_lexer": "ipython3",
   "version": "3.9.13"
  }
 },
 "nbformat": 4,
 "nbformat_minor": 5
}
