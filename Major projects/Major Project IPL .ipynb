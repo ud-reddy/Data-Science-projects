{
 "cells": [
  {
   "cell_type": "markdown",
   "id": "c52e66dc",
   "metadata": {},
   "source": [
    "## Importing the required modules "
   ]
  },
  {
   "cell_type": "code",
   "execution_count": 1,
   "id": "e4ac88e4",
   "metadata": {},
   "outputs": [],
   "source": [
    "import pandas as pd\n",
    "import numpy as np"
   ]
  },
  {
   "cell_type": "markdown",
   "id": "95da2d50",
   "metadata": {},
   "source": [
    "## Reading the csv files"
   ]
  },
  {
   "cell_type": "code",
   "execution_count": 2,
   "id": "f6dd6fa2",
   "metadata": {},
   "outputs": [],
   "source": [
    "df1 = pd.read_csv(\"IPL Ball-By-Ball 2008-2020.csv\")\n",
    "df2 = pd.read_csv(\"IPL Matches 2008-2020.csv\")"
   ]
  },
  {
   "cell_type": "markdown",
   "id": "a57dbf51",
   "metadata": {},
   "source": [
    "### Deliveries"
   ]
  },
  {
   "cell_type": "code",
   "execution_count": 3,
   "id": "c826f3fb",
   "metadata": {},
   "outputs": [
    {
     "data": {
      "text/html": [
       "<div>\n",
       "<style scoped>\n",
       "    .dataframe tbody tr th:only-of-type {\n",
       "        vertical-align: middle;\n",
       "    }\n",
       "\n",
       "    .dataframe tbody tr th {\n",
       "        vertical-align: top;\n",
       "    }\n",
       "\n",
       "    .dataframe thead th {\n",
       "        text-align: right;\n",
       "    }\n",
       "</style>\n",
       "<table border=\"1\" class=\"dataframe\">\n",
       "  <thead>\n",
       "    <tr style=\"text-align: right;\">\n",
       "      <th></th>\n",
       "      <th>id</th>\n",
       "      <th>inning</th>\n",
       "      <th>over</th>\n",
       "      <th>ball</th>\n",
       "      <th>batsman</th>\n",
       "      <th>non_striker</th>\n",
       "      <th>bowler</th>\n",
       "      <th>batsman_runs</th>\n",
       "      <th>extra_runs</th>\n",
       "      <th>total_runs</th>\n",
       "      <th>non_boundary</th>\n",
       "      <th>is_wicket</th>\n",
       "      <th>dismissal_kind</th>\n",
       "      <th>player_dismissed</th>\n",
       "      <th>fielder</th>\n",
       "      <th>extras_type</th>\n",
       "      <th>batting_team</th>\n",
       "      <th>bowling_team</th>\n",
       "    </tr>\n",
       "  </thead>\n",
       "  <tbody>\n",
       "    <tr>\n",
       "      <th>0</th>\n",
       "      <td>335982</td>\n",
       "      <td>1</td>\n",
       "      <td>6</td>\n",
       "      <td>5</td>\n",
       "      <td>RT Ponting</td>\n",
       "      <td>BB McCullum</td>\n",
       "      <td>AA Noffke</td>\n",
       "      <td>1</td>\n",
       "      <td>0</td>\n",
       "      <td>1</td>\n",
       "      <td>0</td>\n",
       "      <td>0</td>\n",
       "      <td>NaN</td>\n",
       "      <td>NaN</td>\n",
       "      <td>NaN</td>\n",
       "      <td>NaN</td>\n",
       "      <td>Kolkata Knight Riders</td>\n",
       "      <td>Royal Challengers Bangalore</td>\n",
       "    </tr>\n",
       "    <tr>\n",
       "      <th>1</th>\n",
       "      <td>335982</td>\n",
       "      <td>1</td>\n",
       "      <td>6</td>\n",
       "      <td>6</td>\n",
       "      <td>BB McCullum</td>\n",
       "      <td>RT Ponting</td>\n",
       "      <td>AA Noffke</td>\n",
       "      <td>1</td>\n",
       "      <td>0</td>\n",
       "      <td>1</td>\n",
       "      <td>0</td>\n",
       "      <td>0</td>\n",
       "      <td>NaN</td>\n",
       "      <td>NaN</td>\n",
       "      <td>NaN</td>\n",
       "      <td>NaN</td>\n",
       "      <td>Kolkata Knight Riders</td>\n",
       "      <td>Royal Challengers Bangalore</td>\n",
       "    </tr>\n",
       "    <tr>\n",
       "      <th>2</th>\n",
       "      <td>335982</td>\n",
       "      <td>1</td>\n",
       "      <td>7</td>\n",
       "      <td>1</td>\n",
       "      <td>BB McCullum</td>\n",
       "      <td>RT Ponting</td>\n",
       "      <td>Z Khan</td>\n",
       "      <td>0</td>\n",
       "      <td>0</td>\n",
       "      <td>0</td>\n",
       "      <td>0</td>\n",
       "      <td>0</td>\n",
       "      <td>NaN</td>\n",
       "      <td>NaN</td>\n",
       "      <td>NaN</td>\n",
       "      <td>NaN</td>\n",
       "      <td>Kolkata Knight Riders</td>\n",
       "      <td>Royal Challengers Bangalore</td>\n",
       "    </tr>\n",
       "    <tr>\n",
       "      <th>3</th>\n",
       "      <td>335982</td>\n",
       "      <td>1</td>\n",
       "      <td>7</td>\n",
       "      <td>2</td>\n",
       "      <td>BB McCullum</td>\n",
       "      <td>RT Ponting</td>\n",
       "      <td>Z Khan</td>\n",
       "      <td>1</td>\n",
       "      <td>0</td>\n",
       "      <td>1</td>\n",
       "      <td>0</td>\n",
       "      <td>0</td>\n",
       "      <td>NaN</td>\n",
       "      <td>NaN</td>\n",
       "      <td>NaN</td>\n",
       "      <td>NaN</td>\n",
       "      <td>Kolkata Knight Riders</td>\n",
       "      <td>Royal Challengers Bangalore</td>\n",
       "    </tr>\n",
       "    <tr>\n",
       "      <th>4</th>\n",
       "      <td>335982</td>\n",
       "      <td>1</td>\n",
       "      <td>7</td>\n",
       "      <td>3</td>\n",
       "      <td>RT Ponting</td>\n",
       "      <td>BB McCullum</td>\n",
       "      <td>Z Khan</td>\n",
       "      <td>1</td>\n",
       "      <td>0</td>\n",
       "      <td>1</td>\n",
       "      <td>0</td>\n",
       "      <td>0</td>\n",
       "      <td>NaN</td>\n",
       "      <td>NaN</td>\n",
       "      <td>NaN</td>\n",
       "      <td>NaN</td>\n",
       "      <td>Kolkata Knight Riders</td>\n",
       "      <td>Royal Challengers Bangalore</td>\n",
       "    </tr>\n",
       "  </tbody>\n",
       "</table>\n",
       "</div>"
      ],
      "text/plain": [
       "       id  inning  over  ball      batsman  non_striker     bowler  \\\n",
       "0  335982       1     6     5   RT Ponting  BB McCullum  AA Noffke   \n",
       "1  335982       1     6     6  BB McCullum   RT Ponting  AA Noffke   \n",
       "2  335982       1     7     1  BB McCullum   RT Ponting     Z Khan   \n",
       "3  335982       1     7     2  BB McCullum   RT Ponting     Z Khan   \n",
       "4  335982       1     7     3   RT Ponting  BB McCullum     Z Khan   \n",
       "\n",
       "   batsman_runs  extra_runs  total_runs  non_boundary  is_wicket  \\\n",
       "0             1           0           1             0          0   \n",
       "1             1           0           1             0          0   \n",
       "2             0           0           0             0          0   \n",
       "3             1           0           1             0          0   \n",
       "4             1           0           1             0          0   \n",
       "\n",
       "  dismissal_kind player_dismissed fielder extras_type           batting_team  \\\n",
       "0            NaN              NaN     NaN         NaN  Kolkata Knight Riders   \n",
       "1            NaN              NaN     NaN         NaN  Kolkata Knight Riders   \n",
       "2            NaN              NaN     NaN         NaN  Kolkata Knight Riders   \n",
       "3            NaN              NaN     NaN         NaN  Kolkata Knight Riders   \n",
       "4            NaN              NaN     NaN         NaN  Kolkata Knight Riders   \n",
       "\n",
       "                  bowling_team  \n",
       "0  Royal Challengers Bangalore  \n",
       "1  Royal Challengers Bangalore  \n",
       "2  Royal Challengers Bangalore  \n",
       "3  Royal Challengers Bangalore  \n",
       "4  Royal Challengers Bangalore  "
      ]
     },
     "execution_count": 3,
     "metadata": {},
     "output_type": "execute_result"
    }
   ],
   "source": [
    "df1.head()"
   ]
  },
  {
   "cell_type": "markdown",
   "id": "b0eeefda",
   "metadata": {},
   "source": [
    "### Matches"
   ]
  },
  {
   "cell_type": "code",
   "execution_count": 4,
   "id": "90831f54",
   "metadata": {},
   "outputs": [
    {
     "data": {
      "text/html": [
       "<div>\n",
       "<style scoped>\n",
       "    .dataframe tbody tr th:only-of-type {\n",
       "        vertical-align: middle;\n",
       "    }\n",
       "\n",
       "    .dataframe tbody tr th {\n",
       "        vertical-align: top;\n",
       "    }\n",
       "\n",
       "    .dataframe thead th {\n",
       "        text-align: right;\n",
       "    }\n",
       "</style>\n",
       "<table border=\"1\" class=\"dataframe\">\n",
       "  <thead>\n",
       "    <tr style=\"text-align: right;\">\n",
       "      <th></th>\n",
       "      <th>id</th>\n",
       "      <th>city</th>\n",
       "      <th>date</th>\n",
       "      <th>player_of_match</th>\n",
       "      <th>venue</th>\n",
       "      <th>neutral_venue</th>\n",
       "      <th>team1</th>\n",
       "      <th>team2</th>\n",
       "      <th>toss_winner</th>\n",
       "      <th>toss_decision</th>\n",
       "      <th>winner</th>\n",
       "      <th>result</th>\n",
       "      <th>result_margin</th>\n",
       "      <th>eliminator</th>\n",
       "      <th>method</th>\n",
       "      <th>umpire1</th>\n",
       "      <th>umpire2</th>\n",
       "    </tr>\n",
       "  </thead>\n",
       "  <tbody>\n",
       "    <tr>\n",
       "      <th>0</th>\n",
       "      <td>335982</td>\n",
       "      <td>Bangalore</td>\n",
       "      <td>2008-04-18</td>\n",
       "      <td>BB McCullum</td>\n",
       "      <td>M Chinnaswamy Stadium</td>\n",
       "      <td>0</td>\n",
       "      <td>Royal Challengers Bangalore</td>\n",
       "      <td>Kolkata Knight Riders</td>\n",
       "      <td>Royal Challengers Bangalore</td>\n",
       "      <td>field</td>\n",
       "      <td>Kolkata Knight Riders</td>\n",
       "      <td>runs</td>\n",
       "      <td>140.0</td>\n",
       "      <td>N</td>\n",
       "      <td>NaN</td>\n",
       "      <td>Asad Rauf</td>\n",
       "      <td>RE Koertzen</td>\n",
       "    </tr>\n",
       "    <tr>\n",
       "      <th>1</th>\n",
       "      <td>335983</td>\n",
       "      <td>Chandigarh</td>\n",
       "      <td>2008-04-19</td>\n",
       "      <td>MEK Hussey</td>\n",
       "      <td>Punjab Cricket Association Stadium, Mohali</td>\n",
       "      <td>0</td>\n",
       "      <td>Kings XI Punjab</td>\n",
       "      <td>Chennai Super Kings</td>\n",
       "      <td>Chennai Super Kings</td>\n",
       "      <td>bat</td>\n",
       "      <td>Chennai Super Kings</td>\n",
       "      <td>runs</td>\n",
       "      <td>33.0</td>\n",
       "      <td>N</td>\n",
       "      <td>NaN</td>\n",
       "      <td>MR Benson</td>\n",
       "      <td>SL Shastri</td>\n",
       "    </tr>\n",
       "    <tr>\n",
       "      <th>2</th>\n",
       "      <td>335984</td>\n",
       "      <td>Delhi</td>\n",
       "      <td>2008-04-19</td>\n",
       "      <td>MF Maharoof</td>\n",
       "      <td>Feroz Shah Kotla</td>\n",
       "      <td>0</td>\n",
       "      <td>Delhi Daredevils</td>\n",
       "      <td>Rajasthan Royals</td>\n",
       "      <td>Rajasthan Royals</td>\n",
       "      <td>bat</td>\n",
       "      <td>Delhi Daredevils</td>\n",
       "      <td>wickets</td>\n",
       "      <td>9.0</td>\n",
       "      <td>N</td>\n",
       "      <td>NaN</td>\n",
       "      <td>Aleem Dar</td>\n",
       "      <td>GA Pratapkumar</td>\n",
       "    </tr>\n",
       "    <tr>\n",
       "      <th>3</th>\n",
       "      <td>335985</td>\n",
       "      <td>Mumbai</td>\n",
       "      <td>2008-04-20</td>\n",
       "      <td>MV Boucher</td>\n",
       "      <td>Wankhede Stadium</td>\n",
       "      <td>0</td>\n",
       "      <td>Mumbai Indians</td>\n",
       "      <td>Royal Challengers Bangalore</td>\n",
       "      <td>Mumbai Indians</td>\n",
       "      <td>bat</td>\n",
       "      <td>Royal Challengers Bangalore</td>\n",
       "      <td>wickets</td>\n",
       "      <td>5.0</td>\n",
       "      <td>N</td>\n",
       "      <td>NaN</td>\n",
       "      <td>SJ Davis</td>\n",
       "      <td>DJ Harper</td>\n",
       "    </tr>\n",
       "    <tr>\n",
       "      <th>4</th>\n",
       "      <td>335986</td>\n",
       "      <td>Kolkata</td>\n",
       "      <td>2008-04-20</td>\n",
       "      <td>DJ Hussey</td>\n",
       "      <td>Eden Gardens</td>\n",
       "      <td>0</td>\n",
       "      <td>Kolkata Knight Riders</td>\n",
       "      <td>Deccan Chargers</td>\n",
       "      <td>Deccan Chargers</td>\n",
       "      <td>bat</td>\n",
       "      <td>Kolkata Knight Riders</td>\n",
       "      <td>wickets</td>\n",
       "      <td>5.0</td>\n",
       "      <td>N</td>\n",
       "      <td>NaN</td>\n",
       "      <td>BF Bowden</td>\n",
       "      <td>K Hariharan</td>\n",
       "    </tr>\n",
       "  </tbody>\n",
       "</table>\n",
       "</div>"
      ],
      "text/plain": [
       "       id        city        date player_of_match  \\\n",
       "0  335982   Bangalore  2008-04-18     BB McCullum   \n",
       "1  335983  Chandigarh  2008-04-19      MEK Hussey   \n",
       "2  335984       Delhi  2008-04-19     MF Maharoof   \n",
       "3  335985      Mumbai  2008-04-20      MV Boucher   \n",
       "4  335986     Kolkata  2008-04-20       DJ Hussey   \n",
       "\n",
       "                                        venue  neutral_venue  \\\n",
       "0                       M Chinnaswamy Stadium              0   \n",
       "1  Punjab Cricket Association Stadium, Mohali              0   \n",
       "2                            Feroz Shah Kotla              0   \n",
       "3                            Wankhede Stadium              0   \n",
       "4                                Eden Gardens              0   \n",
       "\n",
       "                         team1                        team2  \\\n",
       "0  Royal Challengers Bangalore        Kolkata Knight Riders   \n",
       "1              Kings XI Punjab          Chennai Super Kings   \n",
       "2             Delhi Daredevils             Rajasthan Royals   \n",
       "3               Mumbai Indians  Royal Challengers Bangalore   \n",
       "4        Kolkata Knight Riders              Deccan Chargers   \n",
       "\n",
       "                   toss_winner toss_decision                       winner  \\\n",
       "0  Royal Challengers Bangalore         field        Kolkata Knight Riders   \n",
       "1          Chennai Super Kings           bat          Chennai Super Kings   \n",
       "2             Rajasthan Royals           bat             Delhi Daredevils   \n",
       "3               Mumbai Indians           bat  Royal Challengers Bangalore   \n",
       "4              Deccan Chargers           bat        Kolkata Knight Riders   \n",
       "\n",
       "    result  result_margin eliminator method    umpire1         umpire2  \n",
       "0     runs          140.0          N    NaN  Asad Rauf     RE Koertzen  \n",
       "1     runs           33.0          N    NaN  MR Benson      SL Shastri  \n",
       "2  wickets            9.0          N    NaN  Aleem Dar  GA Pratapkumar  \n",
       "3  wickets            5.0          N    NaN   SJ Davis       DJ Harper  \n",
       "4  wickets            5.0          N    NaN  BF Bowden     K Hariharan  "
      ]
     },
     "execution_count": 4,
     "metadata": {},
     "output_type": "execute_result"
    }
   ],
   "source": [
    "df2.head()"
   ]
  },
  {
   "cell_type": "markdown",
   "id": "e5d085ba",
   "metadata": {},
   "source": [
    "## Information of the datasets "
   ]
  },
  {
   "cell_type": "code",
   "execution_count": 5,
   "id": "1b75d717",
   "metadata": {},
   "outputs": [
    {
     "name": "stdout",
     "output_type": "stream",
     "text": [
      "<class 'pandas.core.frame.DataFrame'>\n",
      "RangeIndex: 193468 entries, 0 to 193467\n",
      "Data columns (total 18 columns):\n",
      " #   Column            Non-Null Count   Dtype \n",
      "---  ------            --------------   ----- \n",
      " 0   id                193468 non-null  int64 \n",
      " 1   inning            193468 non-null  int64 \n",
      " 2   over              193468 non-null  int64 \n",
      " 3   ball              193468 non-null  int64 \n",
      " 4   batsman           193468 non-null  object\n",
      " 5   non_striker       193468 non-null  object\n",
      " 6   bowler            193468 non-null  object\n",
      " 7   batsman_runs      193468 non-null  int64 \n",
      " 8   extra_runs        193468 non-null  int64 \n",
      " 9   total_runs        193468 non-null  int64 \n",
      " 10  non_boundary      193468 non-null  int64 \n",
      " 11  is_wicket         193468 non-null  int64 \n",
      " 12  dismissal_kind    9495 non-null    object\n",
      " 13  player_dismissed  9495 non-null    object\n",
      " 14  fielder           6784 non-null    object\n",
      " 15  extras_type       10233 non-null   object\n",
      " 16  batting_team      193468 non-null  object\n",
      " 17  bowling_team      193277 non-null  object\n",
      "dtypes: int64(9), object(9)\n",
      "memory usage: 26.6+ MB\n"
     ]
    }
   ],
   "source": [
    "df1.info()"
   ]
  },
  {
   "cell_type": "code",
   "execution_count": 6,
   "id": "acbc6f11",
   "metadata": {},
   "outputs": [
    {
     "name": "stdout",
     "output_type": "stream",
     "text": [
      "<class 'pandas.core.frame.DataFrame'>\n",
      "RangeIndex: 816 entries, 0 to 815\n",
      "Data columns (total 17 columns):\n",
      " #   Column           Non-Null Count  Dtype  \n",
      "---  ------           --------------  -----  \n",
      " 0   id               816 non-null    int64  \n",
      " 1   city             803 non-null    object \n",
      " 2   date             816 non-null    object \n",
      " 3   player_of_match  812 non-null    object \n",
      " 4   venue            816 non-null    object \n",
      " 5   neutral_venue    816 non-null    int64  \n",
      " 6   team1            816 non-null    object \n",
      " 7   team2            816 non-null    object \n",
      " 8   toss_winner      816 non-null    object \n",
      " 9   toss_decision    816 non-null    object \n",
      " 10  winner           812 non-null    object \n",
      " 11  result           812 non-null    object \n",
      " 12  result_margin    799 non-null    float64\n",
      " 13  eliminator       812 non-null    object \n",
      " 14  method           19 non-null     object \n",
      " 15  umpire1          816 non-null    object \n",
      " 16  umpire2          816 non-null    object \n",
      "dtypes: float64(1), int64(2), object(14)\n",
      "memory usage: 108.5+ KB\n"
     ]
    }
   ],
   "source": [
    "df2.info()"
   ]
  },
  {
   "cell_type": "markdown",
   "id": "95567d32",
   "metadata": {},
   "source": [
    "## Checking for null values"
   ]
  },
  {
   "cell_type": "code",
   "execution_count": 7,
   "id": "b2dca91b",
   "metadata": {},
   "outputs": [
    {
     "data": {
      "text/plain": [
       "id                       0\n",
       "inning                   0\n",
       "over                     0\n",
       "ball                     0\n",
       "batsman                  0\n",
       "non_striker              0\n",
       "bowler                   0\n",
       "batsman_runs             0\n",
       "extra_runs               0\n",
       "total_runs               0\n",
       "non_boundary             0\n",
       "is_wicket                0\n",
       "dismissal_kind      183973\n",
       "player_dismissed    183973\n",
       "fielder             186684\n",
       "extras_type         183235\n",
       "batting_team             0\n",
       "bowling_team           191\n",
       "dtype: int64"
      ]
     },
     "execution_count": 7,
     "metadata": {},
     "output_type": "execute_result"
    }
   ],
   "source": [
    "df1.isna().sum()"
   ]
  },
  {
   "cell_type": "code",
   "execution_count": 8,
   "id": "3b138c8b",
   "metadata": {},
   "outputs": [
    {
     "data": {
      "text/plain": [
       "id                   0\n",
       "city                13\n",
       "date                 0\n",
       "player_of_match      4\n",
       "venue                0\n",
       "neutral_venue        0\n",
       "team1                0\n",
       "team2                0\n",
       "toss_winner          0\n",
       "toss_decision        0\n",
       "winner               4\n",
       "result               4\n",
       "result_margin       17\n",
       "eliminator           4\n",
       "method             797\n",
       "umpire1              0\n",
       "umpire2              0\n",
       "dtype: int64"
      ]
     },
     "execution_count": 8,
     "metadata": {},
     "output_type": "execute_result"
    }
   ],
   "source": [
    "df2.isna().sum()"
   ]
  },
  {
   "cell_type": "markdown",
   "id": "115849c9",
   "metadata": {},
   "source": [
    "### Count of matches played in each season"
   ]
  },
  {
   "cell_type": "code",
   "execution_count": 9,
   "id": "5726a17e",
   "metadata": {},
   "outputs": [
    {
     "name": "stdout",
     "output_type": "stream",
     "text": [
      "   season  No_of_matches\n",
      "10   2008             58\n",
      "3    2009             57\n",
      "11   2010             60\n",
      "2    2011             73\n",
      "6    2012             74\n",
      "4    2013             76\n",
      "0    2014             60\n",
      "9    2015             59\n",
      "8    2016             60\n",
      "7    2017             59\n",
      "1    2018             60\n",
      "5    2019             60\n",
      "12   2020             60\n"
     ]
    }
   ],
   "source": [
    "years = []\n",
    "for i in df2['date']:\n",
    "    years.append(i.split('-')[0])\n",
    "\n",
    "data = []\n",
    "\n",
    "for i in list(set(years)):\n",
    "    data.append([i,years.count(i)])\n",
    "    \n",
    "pdf = pd.DataFrame(data,columns = ['season','No_of_matches'])\n",
    "print(pdf.sort_values(by = 'season'))"
   ]
  },
  {
   "cell_type": "markdown",
   "id": "8fdfc606",
   "metadata": {},
   "source": [
    "### Runs scored in each season"
   ]
  },
  {
   "cell_type": "code",
   "execution_count": 10,
   "id": "9af0a04e",
   "metadata": {},
   "outputs": [],
   "source": [
    "id = set(df1['id'])\n",
    "dic = {}\n",
    "for i in id:\n",
    "    pdf=df1[df1['id']==i]\n",
    "    dic[i] = pdf['total_runs'].sum()"
   ]
  },
  {
   "cell_type": "code",
   "execution_count": 11,
   "id": "8a2d3285",
   "metadata": {},
   "outputs": [],
   "source": [
    "years = []\n",
    "for i in df2['date']:\n",
    "    years.append(i.split('-')[0])\n",
    "dic_y = {}\n",
    "\n",
    "for i in set(years):\n",
    "    l = []\n",
    "    for j in df2.values:\n",
    "        if(i in j[2]):\n",
    "            l.append(j[0])\n",
    "    dic_y[i]=l\n",
    "    "
   ]
  },
  {
   "cell_type": "code",
   "execution_count": 12,
   "id": "e444af81",
   "metadata": {},
   "outputs": [
    {
     "name": "stdout",
     "output_type": "stream",
     "text": [
      "The total runs scored in every season : \n",
      "----------------------------------------\n",
      "2014 : 18909\n",
      "2018 : 19901\n",
      "2011 : 21154\n",
      "2009 : 16320\n",
      "2013 : 22541\n",
      "2019 : 19400\n",
      "2012 : 22453\n",
      "2017 : 18769\n",
      "2016 : 18862\n",
      "2015 : 18332\n",
      "2008 : 17937\n",
      "2010 : 18864\n",
      "2020 : 19352\n"
     ]
    }
   ],
   "source": [
    "print(\"The total runs scored in every season : \")\n",
    "print(\"-\"*40)\n",
    "\n",
    "years = list(dic_y.keys())\n",
    "for i in years:\n",
    "    print(i,':',end =\" \")\n",
    "    sum = 0\n",
    "    for j in dic_y[i]:\n",
    "        sum = sum+dic[j]\n",
    "    print(sum)"
   ]
  },
  {
   "cell_type": "markdown",
   "id": "129d009e",
   "metadata": {},
   "source": [
    "### The total runs scored per match in different seasons"
   ]
  },
  {
   "cell_type": "code",
   "execution_count": 13,
   "id": "4cd9e470",
   "metadata": {},
   "outputs": [
    {
     "data": {
      "text/html": [
       "<div>\n",
       "<style scoped>\n",
       "    .dataframe tbody tr th:only-of-type {\n",
       "        vertical-align: middle;\n",
       "    }\n",
       "\n",
       "    .dataframe tbody tr th {\n",
       "        vertical-align: top;\n",
       "    }\n",
       "\n",
       "    .dataframe thead th {\n",
       "        text-align: right;\n",
       "    }\n",
       "</style>\n",
       "<table border=\"1\" class=\"dataframe\">\n",
       "  <thead>\n",
       "    <tr style=\"text-align: right;\">\n",
       "      <th></th>\n",
       "      <th>Match</th>\n",
       "      <th>Season</th>\n",
       "      <th>Total_runs</th>\n",
       "    </tr>\n",
       "  </thead>\n",
       "  <tbody>\n",
       "    <tr>\n",
       "      <th>0</th>\n",
       "      <td>598016</td>\n",
       "      <td>2013</td>\n",
       "      <td>310</td>\n",
       "    </tr>\n",
       "    <tr>\n",
       "      <th>1</th>\n",
       "      <td>598017</td>\n",
       "      <td>2013</td>\n",
       "      <td>304</td>\n",
       "    </tr>\n",
       "    <tr>\n",
       "      <th>2</th>\n",
       "      <td>598018</td>\n",
       "      <td>2013</td>\n",
       "      <td>227</td>\n",
       "    </tr>\n",
       "    <tr>\n",
       "      <th>3</th>\n",
       "      <td>598019</td>\n",
       "      <td>2013</td>\n",
       "      <td>271</td>\n",
       "    </tr>\n",
       "    <tr>\n",
       "      <th>4</th>\n",
       "      <td>598020</td>\n",
       "      <td>2013</td>\n",
       "      <td>252</td>\n",
       "    </tr>\n",
       "    <tr>\n",
       "      <th>...</th>\n",
       "      <td>...</td>\n",
       "      <td>...</td>\n",
       "      <td>...</td>\n",
       "    </tr>\n",
       "    <tr>\n",
       "      <th>811</th>\n",
       "      <td>598011</td>\n",
       "      <td>2013</td>\n",
       "      <td>325</td>\n",
       "    </tr>\n",
       "    <tr>\n",
       "      <th>812</th>\n",
       "      <td>598012</td>\n",
       "      <td>2013</td>\n",
       "      <td>331</td>\n",
       "    </tr>\n",
       "    <tr>\n",
       "      <th>813</th>\n",
       "      <td>598013</td>\n",
       "      <td>2013</td>\n",
       "      <td>312</td>\n",
       "    </tr>\n",
       "    <tr>\n",
       "      <th>814</th>\n",
       "      <td>598014</td>\n",
       "      <td>2013</td>\n",
       "      <td>250</td>\n",
       "    </tr>\n",
       "    <tr>\n",
       "      <th>815</th>\n",
       "      <td>598015</td>\n",
       "      <td>2013</td>\n",
       "      <td>294</td>\n",
       "    </tr>\n",
       "  </tbody>\n",
       "</table>\n",
       "<p>816 rows × 3 columns</p>\n",
       "</div>"
      ],
      "text/plain": [
       "      Match Season  Total_runs\n",
       "0    598016   2013         310\n",
       "1    598017   2013         304\n",
       "2    598018   2013         227\n",
       "3    598019   2013         271\n",
       "4    598020   2013         252\n",
       "..      ...    ...         ...\n",
       "811  598011   2013         325\n",
       "812  598012   2013         331\n",
       "813  598013   2013         312\n",
       "814  598014   2013         250\n",
       "815  598015   2013         294\n",
       "\n",
       "[816 rows x 3 columns]"
      ]
     },
     "execution_count": 13,
     "metadata": {},
     "output_type": "execute_result"
    }
   ],
   "source": [
    "#Every match identifid by the \n",
    "\n",
    "data = []\n",
    "matches = list(dic.keys())\n",
    "for i in matches:\n",
    "    match = i\n",
    "    season = df2[df2['id']==i]['date'].iloc[0].split('-')[0]\n",
    "    total_runs = dic[i]\n",
    "    data.append([match,season,total_runs])\n",
    "runs_per_match = pd.DataFrame(data,columns = ['Match','Season','Total_runs'])\n",
    "runs_per_match\n",
    "\n",
    "# THEREFORE THE FOLLOWING DATA FRAME GIVES THE REQUIRED DATA (TOTAL RUNS PER MATCH IN EVERY SEASON)"
   ]
  },
  {
   "cell_type": "markdown",
   "id": "d9d8aa6a",
   "metadata": {},
   "source": [
    "### The umpire  who has umpired the most"
   ]
  },
  {
   "cell_type": "code",
   "execution_count": 14,
   "id": "9d230a3c",
   "metadata": {},
   "outputs": [
    {
     "name": "stdout",
     "output_type": "stream",
     "text": [
      "The Umpire who Umpired the most : \n",
      "-----------------------------------\n",
      "S Ravi\n"
     ]
    }
   ],
   "source": [
    "umpires = list(df2['umpire1'])\n",
    "l2 = list(df2['umpire2'])\n",
    "umpires.extend(l2)\n",
    "umpires\n",
    "\n",
    "data = []\n",
    "for i in set(umpires):\n",
    "    data.append([i,umpires.count(i)])\n",
    "\n",
    "umpires_data = pd.DataFrame(data,columns = ['Umpire','Count'])\n",
    "\n",
    "print(\"The Umpire who Umpired the most : \")\n",
    "print('-'*35)\n",
    "print(list(umpires_data.sort_values(by = \"Count\",ascending = False)['Umpire'])[0])"
   ]
  },
  {
   "cell_type": "markdown",
   "id": "23b30707",
   "metadata": {},
   "source": [
    "### The team which won the most tosses"
   ]
  },
  {
   "cell_type": "code",
   "execution_count": 15,
   "id": "d9ee9e5b",
   "metadata": {},
   "outputs": [
    {
     "name": "stdout",
     "output_type": "stream",
     "text": [
      "The team that won most of the tosses : \n",
      "----------------------------------------\n",
      "Mumbai Indians\n",
      "----------------------------------------\n"
     ]
    }
   ],
   "source": [
    "print(\"The team that won most of the tosses : \")\n",
    "print('-'*40)\n",
    "print(list(df2.value_counts(['toss_winner']).index)[0][0])\n",
    "print('-'*40)"
   ]
  },
  {
   "cell_type": "markdown",
   "id": "ded5c8a5",
   "metadata": {},
   "source": [
    "### What does the team decide after winning the toss"
   ]
  },
  {
   "cell_type": "code",
   "execution_count": 16,
   "id": "4e412785",
   "metadata": {},
   "outputs": [
    {
     "data": {
      "text/html": [
       "<div>\n",
       "<style scoped>\n",
       "    .dataframe tbody tr th:only-of-type {\n",
       "        vertical-align: middle;\n",
       "    }\n",
       "\n",
       "    .dataframe tbody tr th {\n",
       "        vertical-align: top;\n",
       "    }\n",
       "\n",
       "    .dataframe thead th {\n",
       "        text-align: right;\n",
       "    }\n",
       "</style>\n",
       "<table border=\"1\" class=\"dataframe\">\n",
       "  <thead>\n",
       "    <tr style=\"text-align: right;\">\n",
       "      <th></th>\n",
       "      <th>Team</th>\n",
       "      <th>Decision</th>\n",
       "    </tr>\n",
       "  </thead>\n",
       "  <tbody>\n",
       "    <tr>\n",
       "      <th>0</th>\n",
       "      <td>Royal Challengers Bangalore</td>\n",
       "      <td>field</td>\n",
       "    </tr>\n",
       "    <tr>\n",
       "      <th>1</th>\n",
       "      <td>Chennai Super Kings</td>\n",
       "      <td>bat</td>\n",
       "    </tr>\n",
       "    <tr>\n",
       "      <th>2</th>\n",
       "      <td>Rajasthan Royals</td>\n",
       "      <td>bat</td>\n",
       "    </tr>\n",
       "    <tr>\n",
       "      <th>3</th>\n",
       "      <td>Mumbai Indians</td>\n",
       "      <td>bat</td>\n",
       "    </tr>\n",
       "    <tr>\n",
       "      <th>4</th>\n",
       "      <td>Deccan Chargers</td>\n",
       "      <td>bat</td>\n",
       "    </tr>\n",
       "    <tr>\n",
       "      <th>...</th>\n",
       "      <td>...</td>\n",
       "      <td>...</td>\n",
       "    </tr>\n",
       "    <tr>\n",
       "      <th>811</th>\n",
       "      <td>Mumbai Indians</td>\n",
       "      <td>field</td>\n",
       "    </tr>\n",
       "    <tr>\n",
       "      <th>812</th>\n",
       "      <td>Delhi Capitals</td>\n",
       "      <td>field</td>\n",
       "    </tr>\n",
       "    <tr>\n",
       "      <th>813</th>\n",
       "      <td>Sunrisers Hyderabad</td>\n",
       "      <td>field</td>\n",
       "    </tr>\n",
       "    <tr>\n",
       "      <th>814</th>\n",
       "      <td>Delhi Capitals</td>\n",
       "      <td>bat</td>\n",
       "    </tr>\n",
       "    <tr>\n",
       "      <th>815</th>\n",
       "      <td>Delhi Capitals</td>\n",
       "      <td>bat</td>\n",
       "    </tr>\n",
       "  </tbody>\n",
       "</table>\n",
       "<p>816 rows × 2 columns</p>\n",
       "</div>"
      ],
      "text/plain": [
       "                            Team Decision\n",
       "0    Royal Challengers Bangalore    field\n",
       "1            Chennai Super Kings      bat\n",
       "2               Rajasthan Royals      bat\n",
       "3                 Mumbai Indians      bat\n",
       "4                Deccan Chargers      bat\n",
       "..                           ...      ...\n",
       "811               Mumbai Indians    field\n",
       "812               Delhi Capitals    field\n",
       "813          Sunrisers Hyderabad    field\n",
       "814               Delhi Capitals      bat\n",
       "815               Delhi Capitals      bat\n",
       "\n",
       "[816 rows x 2 columns]"
      ]
     },
     "execution_count": 16,
     "metadata": {},
     "output_type": "execute_result"
    }
   ],
   "source": [
    "data = []\n",
    "for i in df2.values:\n",
    "    data.append([i[8],i[9]])\n",
    "pdf = pd.DataFrame(data,columns = ['Team','Decision'])\n",
    "pdf\n",
    "\n",
    "#The following dataframe show what decision was taken by all teams after winning the toss in different matches"
   ]
  },
  {
   "cell_type": "markdown",
   "id": "4d7cdd42",
   "metadata": {},
   "source": [
    "### How does the toss decision vary across the seasons"
   ]
  },
  {
   "cell_type": "code",
   "execution_count": 17,
   "id": "7e017958",
   "metadata": {},
   "outputs": [
    {
     "name": "stdout",
     "output_type": "stream",
     "text": [
      "The Following DataFrame shows the varying toss decision across seasons : \n",
      "--------------------------------------------------\n",
      "   Seasons  Decision_bat  Decision_field\n",
      "0     2014            19              41\n",
      "1     2018            10              50\n",
      "2     2013            45              31\n",
      "3     2019            10              50\n",
      "4     2011            25              48\n",
      "5     2009            35              22\n",
      "6     2012            37              37\n",
      "7     2017            11              48\n",
      "8     2016            11              49\n",
      "9     2015            25              34\n",
      "10    2008            26              32\n",
      "11    2010            39              21\n",
      "12    2020            27              33\n"
     ]
    }
   ],
   "source": [
    "temp_df = df2[['date','toss_decision']].sort_values(by = 'date',ascending = False)\n",
    "year = []\n",
    "for i in temp_df['date']:\n",
    "    year.append(i.split('-')[0])\n",
    "temp_df['date'] = year\n",
    "\n",
    "years = list(set(temp_df['date']))\n",
    "final_data = []\n",
    "for i in years:\n",
    "    final_data.append([i,list(temp_df[temp_df['date']==i]['toss_decision']).count('bat'),\n",
    "          list(temp_df[temp_df['date']==i]['toss_decision']).count('field')])\n",
    "\n",
    "tdf = pd.DataFrame(final_data,columns = ['Seasons','Decision_bat','Decision_field'])\n",
    "print(\"The Following DataFrame shows the varying toss decision across seasons : \")\n",
    "print('-'*50)\n",
    "print(tdf)"
   ]
  },
  {
   "cell_type": "markdown",
   "id": "30b4502a",
   "metadata": {},
   "source": [
    "### Checking if winning the toss imply winning the game"
   ]
  },
  {
   "cell_type": "code",
   "execution_count": 18,
   "id": "9ab3683f",
   "metadata": {},
   "outputs": [
    {
     "name": "stdout",
     "output_type": "stream",
     "text": [
      "The Winning percentage of toss winners : \n",
      "----------------------------------------\n",
      "51.225490196078425\n",
      "----------------------------------------\n",
      "Since the win percentage is nearly half, winning toss doesn't impy winning game!\n"
     ]
    }
   ],
   "source": [
    "temp_df = df2[['toss_winner','winner']]\n",
    "count = 0\n",
    "for i in temp_df.values:\n",
    "    if i[0]==i[1]:\n",
    "        count+=1\n",
    "print(\"The Winning percentage of toss winners : \")\n",
    "print('-'*40)\n",
    "print(count/len(temp_df)*100)\n",
    "print('-'*40)\n",
    "print(\"Since the win percentage is nearly half, winning toss doesn't impy winning game!\")"
   ]
  },
  {
   "cell_type": "markdown",
   "id": "24a64406",
   "metadata": {},
   "source": [
    "### How many times has the chasing team won the match"
   ]
  },
  {
   "cell_type": "code",
   "execution_count": 19,
   "id": "8efd894f",
   "metadata": {},
   "outputs": [
    {
     "name": "stdout",
     "output_type": "stream",
     "text": [
      "----------------------------------------\n",
      "The chasing team won the match  273  times\n",
      "----------------------------------------\n"
     ]
    }
   ],
   "source": [
    "temp_df = df2[['toss_winner','toss_decision','winner']]\n",
    "temp_df = temp_df[temp_df['toss_decision']=='field']\n",
    "\n",
    "count = 0\n",
    "for i in temp_df.values:\n",
    "    if i[0]==i[2]:\n",
    "        count+=1\n",
    "print('-'*40)\n",
    "print('The chasing team won the match ',count,' times')\n",
    "print('-'*40)"
   ]
  },
  {
   "cell_type": "markdown",
   "id": "d7a9bfc9",
   "metadata": {},
   "source": [
    "### Which team has played the most number of matches"
   ]
  },
  {
   "cell_type": "code",
   "execution_count": 20,
   "id": "e4cbb95b",
   "metadata": {},
   "outputs": [
    {
     "name": "stdout",
     "output_type": "stream",
     "text": [
      "The team which played the most number of matches : \n",
      "----------------------------------------\n",
      "Mumbai Indians\n",
      "----------------------------------------\n"
     ]
    }
   ],
   "source": [
    "teams_played = list(df2['team1']) + list(df2['team2'])\n",
    "uni_teams = list(set(teams_played))\n",
    "data = []\n",
    "for i in uni_teams:\n",
    "    data.append([i,teams_played.count(i)])\n",
    "temp_df = pd.DataFrame(data,columns = ['team','play_freq'])\n",
    "\n",
    "print(\"The team which played the most number of matches : \")\n",
    "print('-'*40)\n",
    "print(list(temp_df.sort_values(by = 'play_freq',ascending = False)['team'])[0])\n",
    "print('-'*40)"
   ]
  },
  {
   "cell_type": "markdown",
   "id": "78f8c9ff",
   "metadata": {},
   "source": [
    "### Which team won the most number of times"
   ]
  },
  {
   "cell_type": "code",
   "execution_count": 21,
   "id": "b9af4c8a",
   "metadata": {},
   "outputs": [
    {
     "name": "stdout",
     "output_type": "stream",
     "text": [
      "The team which won the most number of matches : \n",
      "----------------------------------------\n",
      "Mumbai Indians : 120 times\n",
      "----------------------------------------\n"
     ]
    }
   ],
   "source": [
    "data = []\n",
    "winners = list(df2['winner'])\n",
    "for i in uni_teams:\n",
    "    data.append([i,winners.count(i)])\n",
    "pdf = pd.DataFrame(data,columns = ['team','win_freq'])\n",
    "\n",
    "print(\"The team which won the most number of matches : \")\n",
    "print('-'*40)\n",
    "print(list(pdf.sort_values(by = 'win_freq',ascending = False)['team'])[0],':',\n",
    "      list(pdf.sort_values(by = 'win_freq',ascending = False)['win_freq'])[0],'times')\n",
    "print('-'*40)"
   ]
  },
  {
   "cell_type": "markdown",
   "id": "266bd0ed",
   "metadata": {},
   "source": [
    "### Which team has the highest win percentage"
   ]
  },
  {
   "cell_type": "code",
   "execution_count": 22,
   "id": "903c137a",
   "metadata": {},
   "outputs": [
    {
     "name": "stdout",
     "output_type": "stream",
     "text": [
      "The team with the highest win percentage : \n",
      "----------------------------------------\n",
      "Mumbai Indians : 0.14705882352941177 %\n",
      "----------------------------------------\n"
     ]
    }
   ],
   "source": [
    "print(\"The team with the highest win percentage : \")\n",
    "print('-'*40)\n",
    "print(list(pdf.sort_values(by = 'win_freq',ascending = False)['team'])[0],':'\n",
    "      ,(list(pdf.sort_values(by = 'win_freq',ascending = False)['win_freq'])[0]/len(winners)),'%')\n",
    "print('-'*40)"
   ]
  },
  {
   "cell_type": "markdown",
   "id": "1d90ff39",
   "metadata": {},
   "source": [
    "### Which stadium has hosted the most number of matches"
   ]
  },
  {
   "cell_type": "code",
   "execution_count": 31,
   "id": "6cc54aed",
   "metadata": {},
   "outputs": [
    {
     "name": "stdout",
     "output_type": "stream",
     "text": [
      "The team that has hosted the most number of matches : \n",
      "------------------------------\n",
      "Eden Gardens : 77\n",
      "------------------------------\n"
     ]
    }
   ],
   "source": [
    "print(\"The team that has hosted the most number of matches : \")\n",
    "print('-'*30)\n",
    "print(df2['venue'].value_counts().index[0],':',df2['venue'].value_counts()[0])\n",
    "print('-'*30)"
   ]
  }
 ],
 "metadata": {
  "kernelspec": {
   "display_name": "Python 3 (ipykernel)",
   "language": "python",
   "name": "python3"
  },
  "language_info": {
   "codemirror_mode": {
    "name": "ipython",
    "version": 3
   },
   "file_extension": ".py",
   "mimetype": "text/x-python",
   "name": "python",
   "nbconvert_exporter": "python",
   "pygments_lexer": "ipython3",
   "version": "3.9.13"
  }
 },
 "nbformat": 4,
 "nbformat_minor": 5
}
