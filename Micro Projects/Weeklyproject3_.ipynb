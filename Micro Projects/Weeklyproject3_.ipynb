{
 "cells": [
  {
   "cell_type": "markdown",
   "id": "8b73466b",
   "metadata": {},
   "source": [
    "## To create 100 files named Ashish1---Ashish100 in a folder"
   ]
  },
  {
   "cell_type": "code",
   "execution_count": 1,
   "id": "fe0742a0",
   "metadata": {},
   "outputs": [
    {
     "name": "stdout",
     "output_type": "stream",
     "text": [
      "-----------------------------\n",
      "The files were created successfully!\n"
     ]
    }
   ],
   "source": [
    "for i in range(1,101):\n",
    "    name = 'weeklyproject3/Ashish' + str(i)\n",
    "    f = open(name,'w')\n",
    "    f.close()\n",
    "print(\"-\"*29)\n",
    "print(\"The files were created successfully!\")"
   ]
  },
  {
   "cell_type": "markdown",
   "id": "6ac3a4e1",
   "metadata": {},
   "source": [
    "## Checking if the files were created or not"
   ]
  },
  {
   "cell_type": "code",
   "execution_count": 2,
   "id": "3089ca98",
   "metadata": {},
   "outputs": [
    {
     "name": "stdout",
     "output_type": "stream",
     "text": [
      "-----------------------------\n",
      "Ashish1 Exists!\n",
      "Ashish2 Exists!\n",
      "Ashish3 Exists!\n",
      "Ashish4 Exists!\n",
      "Ashish5 Exists!\n",
      "Ashish6 Exists!\n",
      "Ashish7 Exists!\n",
      "Ashish8 Exists!\n",
      "Ashish9 Exists!\n",
      "Ashish10 Exists!\n",
      "Ashish11 Exists!\n",
      "Ashish12 Exists!\n",
      "Ashish13 Exists!\n",
      "Ashish14 Exists!\n",
      "Ashish15 Exists!\n",
      "Ashish16 Exists!\n",
      "Ashish17 Exists!\n",
      "Ashish18 Exists!\n",
      "Ashish19 Exists!\n",
      "Ashish20 Exists!\n",
      "Ashish21 Exists!\n",
      "Ashish22 Exists!\n",
      "Ashish23 Exists!\n",
      "Ashish24 Exists!\n",
      "Ashish25 Exists!\n",
      "Ashish26 Exists!\n",
      "Ashish27 Exists!\n",
      "Ashish28 Exists!\n",
      "Ashish29 Exists!\n",
      "Ashish30 Exists!\n",
      "Ashish31 Exists!\n",
      "Ashish32 Exists!\n",
      "Ashish33 Exists!\n",
      "Ashish34 Exists!\n",
      "Ashish35 Exists!\n",
      "Ashish36 Exists!\n",
      "Ashish37 Exists!\n",
      "Ashish38 Exists!\n",
      "Ashish39 Exists!\n",
      "Ashish40 Exists!\n",
      "Ashish41 Exists!\n",
      "Ashish42 Exists!\n",
      "Ashish43 Exists!\n",
      "Ashish44 Exists!\n",
      "Ashish45 Exists!\n",
      "Ashish46 Exists!\n",
      "Ashish47 Exists!\n",
      "Ashish48 Exists!\n",
      "Ashish49 Exists!\n",
      "Ashish50 Exists!\n",
      "Ashish51 Exists!\n",
      "Ashish52 Exists!\n",
      "Ashish53 Exists!\n",
      "Ashish54 Exists!\n",
      "Ashish55 Exists!\n",
      "Ashish56 Exists!\n",
      "Ashish57 Exists!\n",
      "Ashish58 Exists!\n",
      "Ashish59 Exists!\n",
      "Ashish60 Exists!\n",
      "Ashish61 Exists!\n",
      "Ashish62 Exists!\n",
      "Ashish63 Exists!\n",
      "Ashish64 Exists!\n",
      "Ashish65 Exists!\n",
      "Ashish66 Exists!\n",
      "Ashish67 Exists!\n",
      "Ashish68 Exists!\n",
      "Ashish69 Exists!\n",
      "Ashish70 Exists!\n",
      "Ashish71 Exists!\n",
      "Ashish72 Exists!\n",
      "Ashish73 Exists!\n",
      "Ashish74 Exists!\n",
      "Ashish75 Exists!\n",
      "Ashish76 Exists!\n",
      "Ashish77 Exists!\n",
      "Ashish78 Exists!\n",
      "Ashish79 Exists!\n",
      "Ashish80 Exists!\n",
      "Ashish81 Exists!\n",
      "Ashish82 Exists!\n",
      "Ashish83 Exists!\n",
      "Ashish84 Exists!\n",
      "Ashish85 Exists!\n",
      "Ashish86 Exists!\n",
      "Ashish87 Exists!\n",
      "Ashish88 Exists!\n",
      "Ashish89 Exists!\n",
      "Ashish90 Exists!\n",
      "Ashish91 Exists!\n",
      "Ashish92 Exists!\n",
      "Ashish93 Exists!\n",
      "Ashish94 Exists!\n",
      "Ashish95 Exists!\n",
      "Ashish96 Exists!\n",
      "Ashish97 Exists!\n",
      "Ashish98 Exists!\n",
      "Ashish99 Exists!\n",
      "Ashish100 Exists!\n"
     ]
    }
   ],
   "source": [
    "print('-'*29)\n",
    "for i in range(1,101):\n",
    "    name = 'weeklyproject3/Ashish' + str(i)\n",
    "    f = open(name,'r')\n",
    "    f.close()\n",
    "    print(\"Ashish\"+str(i),\"Exists!\")        #This line will only executed only if the file exists"
   ]
  }
 ],
 "metadata": {
  "kernelspec": {
   "display_name": "Python 3 (ipykernel)",
   "language": "python",
   "name": "python3"
  },
  "language_info": {
   "codemirror_mode": {
    "name": "ipython",
    "version": 3
   },
   "file_extension": ".py",
   "mimetype": "text/x-python",
   "name": "python",
   "nbconvert_exporter": "python",
   "pygments_lexer": "ipython3",
   "version": "3.9.13"
  }
 },
 "nbformat": 4,
 "nbformat_minor": 5
}
