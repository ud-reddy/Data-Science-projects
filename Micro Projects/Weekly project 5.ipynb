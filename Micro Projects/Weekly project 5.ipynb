{
 "cells": [
  {
   "cell_type": "code",
   "execution_count": 24,
   "id": "2c460f33",
   "metadata": {},
   "outputs": [],
   "source": [
    "product = {1000:[\"Dell xps 13\",99990,129990,40],\n",
    "          1001:[\"MacBook Air M1\",89990,119990,20],\n",
    "          1002:[\"Asus Zenbook 14 Oled\",90000,110000,60],\n",
    "          1003:[\"Lenovo Legion 5 pro\",125990,169990,70],\n",
    "          1004:[\"MacBook pro 16 M2\",189990,225000,10]}"
   ]
  },
  {
   "cell_type": "markdown",
   "id": "c176ff43",
   "metadata": {},
   "source": [
    "## Adding a product"
   ]
  },
  {
   "cell_type": "code",
   "execution_count": null,
   "id": "dd027359",
   "metadata": {},
   "outputs": [],
   "source": [
    "def addprod(p):\n",
    "    id=int(input(\"Enter the prouduct id : \"))\n",
    "    name=input(\"Enter the product name : \")\n",
    "    sp=int(input(\"Enter the product selling price : \"))\n",
    "    mrp=int(input(\"Enter the MRP : \"))\n",
    "    stock=int(input(\"Enter the stock : \"))\n",
    "    p[id]=[name,sp,mrp,stock]\n",
    "    return p\n",
    "product = addprod(product)"
   ]
  },
  {
   "cell_type": "markdown",
   "id": "a693da57",
   "metadata": {},
   "source": [
    "## Removing a product "
   ]
  },
  {
   "cell_type": "code",
   "execution_count": 31,
   "id": "966e5667",
   "metadata": {},
   "outputs": [
    {
     "name": "stdout",
     "output_type": "stream",
     "text": [
      "Enter the product id : 1004\n",
      "The product with the Id: 1004 Has been removed!\n"
     ]
    }
   ],
   "source": [
    "def remove_product():\n",
    "    id=int(input(\"Enter the product id : \"))\n",
    "    del product[id]\n",
    "    print(\"The product with the Id:\",id,'Has been removed!')\n",
    "remove_product()"
   ]
  },
  {
   "cell_type": "code",
   "execution_count": 33,
   "id": "ea515fd0",
   "metadata": {},
   "outputs": [
    {
     "data": {
      "text/plain": [
       "{1000: ['Dell xps 13', 99990, 129990, 40],\n",
       " 1001: ['MacBook Air M1', 89990, 119990, 15],\n",
       " 1002: ['Asus Zenbook 14 Oled', 90000, 110000, 51],\n",
       " 1003: ['Lenovo Legion 5 pro', 125990, 169990, 70]}"
      ]
     },
     "execution_count": 33,
     "metadata": {},
     "output_type": "execute_result"
    }
   ],
   "source": [
    "product    #Checking if the product has been removed or not"
   ]
  },
  {
   "cell_type": "markdown",
   "id": "28862be3",
   "metadata": {},
   "source": [
    "## Purchasing and decuting the stock of the purchased product"
   ]
  },
  {
   "cell_type": "code",
   "execution_count": 28,
   "id": "f94025ae",
   "metadata": {},
   "outputs": [
    {
     "name": "stdout",
     "output_type": "stream",
     "text": [
      "Enter the name of the product you want to purchase : asus zenbook 14 oled\n",
      "Enter the no of units you want to purchase : 9\n",
      "Purchase Successfull ! \n"
     ]
    }
   ],
   "source": [
    "import time\n",
    "name = input(\"Enter the name of the product you want to purchase : \")\n",
    "quantity=int(input(\"Enter the no of units you want to purchase : \"))\n",
    "bill =''\n",
    "for i in product.keys():\n",
    "    if product[i][0].lower()==name.lower():\n",
    "        bill+=str(i)+','+product[i][0]+','+str(quantity)+','+str(time.ctime())+'\\n' #Generating the bill\n",
    "        product[i][3]-=quantity\n",
    "        print(\"Purchase Successfull ! \")\n",
    "        break"
   ]
  },
  {
   "cell_type": "markdown",
   "id": "8e04296c",
   "metadata": {},
   "source": [
    "## Saving the bill in a csv file"
   ]
  },
  {
   "cell_type": "code",
   "execution_count": 29,
   "id": "6540d58c",
   "metadata": {},
   "outputs": [
    {
     "name": "stdout",
     "output_type": "stream",
     "text": [
      "The bill has been saved ! \n"
     ]
    }
   ],
   "source": [
    "f = open(\"Bills.csv\",'a')\n",
    "f.write(bill)\n",
    "f.close()\n",
    "print(\"The bill has been saved ! \")"
   ]
  }
 ],
 "metadata": {
  "kernelspec": {
   "display_name": "Python 3 (ipykernel)",
   "language": "python",
   "name": "python3"
  },
  "language_info": {
   "codemirror_mode": {
    "name": "ipython",
    "version": 3
   },
   "file_extension": ".py",
   "mimetype": "text/x-python",
   "name": "python",
   "nbconvert_exporter": "python",
   "pygments_lexer": "ipython3",
   "version": "3.9.13"
  }
 },
 "nbformat": 4,
 "nbformat_minor": 5
}
