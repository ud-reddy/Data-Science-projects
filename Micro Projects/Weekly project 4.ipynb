{
 "cells": [
  {
   "cell_type": "markdown",
   "id": "e899ee69",
   "metadata": {},
   "source": [
    "## To create the files"
   ]
  },
  {
   "cell_type": "code",
   "execution_count": 23,
   "id": "68e4abc2",
   "metadata": {},
   "outputs": [],
   "source": [
    "for i in range(1,11):\n",
    "    name = 'files/file_' + str(i) + '.txt'\n",
    "    f = open(name,'w')\n",
    "    f.write(\"This is file \" + str(i))\n",
    "    f.close()"
   ]
  },
  {
   "cell_type": "markdown",
   "id": "eade26c1",
   "metadata": {},
   "source": [
    "## To read from the files"
   ]
  },
  {
   "cell_type": "code",
   "execution_count": 30,
   "id": "ad9af2b4",
   "metadata": {},
   "outputs": [
    {
     "name": "stdout",
     "output_type": "stream",
     "text": [
      "This is file 1\n",
      "This is file 2\n",
      "This is file 3\n",
      "This is file 4\n",
      "This is file 5\n",
      "This is file 6\n",
      "This is file 7\n",
      "This is file 8\n",
      "This is file 9\n",
      "This is file 10\n"
     ]
    }
   ],
   "source": [
    "for i in range(1,11):\n",
    "    name = 'files/file_' + str(i) + '.txt'\n",
    "    f = open(name,'r')\n",
    "    print(f.read())\n",
    "    f.close()"
   ]
  },
  {
   "cell_type": "markdown",
   "id": "0b6e9f0c",
   "metadata": {},
   "source": [
    "## A fuction to encrypt the text in the files "
   ]
  },
  {
   "cell_type": "code",
   "execution_count": 25,
   "id": "ce14e9f6",
   "metadata": {},
   "outputs": [],
   "source": [
    "def encrypt(text):\n",
    "    t=''\n",
    "    text = text[::-1]             #revereses the text and then shifts the text by 3 places\n",
    "    for i in text:\n",
    "        t+= chr(ord(i)+3)\n",
    "    return t"
   ]
  },
  {
   "cell_type": "markdown",
   "id": "b5359d8d",
   "metadata": {},
   "source": [
    "## Encryption"
   ]
  },
  {
   "cell_type": "code",
   "execution_count": 27,
   "id": "b51493d9",
   "metadata": {},
   "outputs": [],
   "source": [
    "for i in range(1,11):\n",
    "    name = 'files/file_' + str(i) + '.txt'\n",
    "    f = open(name,'r')\n",
    "    text=f.read()\n",
    "    f.close()\n",
    "    f = open(name,'w')\n",
    "    f.write(encrypt(text))\n",
    "    f.close()"
   ]
  },
  {
   "cell_type": "markdown",
   "id": "832441a5",
   "metadata": {},
   "source": [
    "## A function to decrpyt the encypted files"
   ]
  },
  {
   "cell_type": "code",
   "execution_count": 26,
   "id": "3ddc83b5",
   "metadata": {},
   "outputs": [],
   "source": [
    "def decrypt(text):\n",
    "    t=''\n",
    "    for i in text:\n",
    "        t+= chr(ord(i)-3)\n",
    "    t= t[::-1]\n",
    "    return t"
   ]
  },
  {
   "cell_type": "markdown",
   "id": "fd8a3e96",
   "metadata": {},
   "source": [
    "## Decryption"
   ]
  },
  {
   "cell_type": "code",
   "execution_count": null,
   "id": "95ef6e15",
   "metadata": {},
   "outputs": [],
   "source": [
    "    for i in range(1,11):\n",
    "    name = 'files/file_' + str(i) + '.txt'\n",
    "    f = open(name,'r')\n",
    "    text=f.read()\n",
    "    f.close()\n",
    "    f = open(name,'w')\n",
    "    f.write(decrypt(text))\n",
    "    f.close()"
   ]
  }
 ],
 "metadata": {
  "kernelspec": {
   "display_name": "Python 3 (ipykernel)",
   "language": "python",
   "name": "python3"
  },
  "language_info": {
   "codemirror_mode": {
    "name": "ipython",
    "version": 3
   },
   "file_extension": ".py",
   "mimetype": "text/x-python",
   "name": "python",
   "nbconvert_exporter": "python",
   "pygments_lexer": "ipython3",
   "version": "3.9.13"
  }
 },
 "nbformat": 4,
 "nbformat_minor": 5
}
