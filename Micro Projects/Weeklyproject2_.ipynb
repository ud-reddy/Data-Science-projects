{
 "cells": [
  {
   "cell_type": "markdown",
   "id": "5afe683e",
   "metadata": {},
   "source": [
    "# Attendence system"
   ]
  },
  {
   "cell_type": "markdown",
   "id": "700f98a4",
   "metadata": {},
   "source": [
    "## Adding Attendence of a student"
   ]
  },
  {
   "cell_type": "code",
   "execution_count": 16,
   "id": "5822bbe8",
   "metadata": {},
   "outputs": [],
   "source": [
    "def addAttendence():\n",
    "    name = input(\"Enter your name:\")\n",
    "    login = input(\"Enter your login time (time (date):\")\n",
    "    logout = input('Enter your logout time(time (date):')\n",
    "    f = open(\"weeklyproject2/attendence\",'a')\n",
    "    f.write(name+\" -- \"+login+' -- '+logout+'\\n')\n",
    "    f.close()\n",
    "    print('\\n',\"-\"*39)\n",
    "    print(\"Attendence added successfully\")"
   ]
  },
  {
   "cell_type": "markdown",
   "id": "03568a04",
   "metadata": {},
   "source": [
    "## Checking attendence"
   ]
  },
  {
   "cell_type": "code",
   "execution_count": 17,
   "id": "ab89cc3a",
   "metadata": {},
   "outputs": [],
   "source": [
    "def checkAttendence():\n",
    "    f = open(\"weeklyproject2/attendence\",'r')\n",
    "    print(\"Attendence details:(Name -- login time (date) -- logout time (data)\")\n",
    "    print(\"-\"*39)\n",
    "    print(f.read())\n",
    "    f.close()"
   ]
  },
  {
   "cell_type": "code",
   "execution_count": 18,
   "id": "791aa600",
   "metadata": {},
   "outputs": [
    {
     "name": "stdout",
     "output_type": "stream",
     "text": [
      "Enter your name:Uday\n",
      "Enter your login time (time (date):14:15 (11-11-22)\n",
      "Enter your logout time(time (date):16:15 (11-11-22)\n",
      "\n",
      " ---------------------------------------\n",
      "Attendence added successfully\n",
      "Enter your name:Sai kiran\n",
      "Enter your login time (time (date):14:15 (11-11-22)\n",
      "Enter your logout time(time (date):16:15 (11-11-22)\n",
      "\n",
      " ---------------------------------------\n",
      "Attendence added successfully\n",
      "Enter your name:Purna\n",
      "Enter your login time (time (date):14:15 (11-11-22)\n",
      "Enter your logout time(time (date):16:15 (11-11-22)\n",
      "\n",
      " ---------------------------------------\n",
      "Attendence added successfully\n",
      "Enter your name:Riya\n",
      "Enter your login time (time (date):14:15 (11-11-22)\n",
      "Enter your logout time(time (date):16:15 (11-11-22)\n",
      "\n",
      " ---------------------------------------\n",
      "Attendence added successfully\n",
      "Enter your name:Shafeq\n",
      "Enter your login time (time (date):14:15 (11-11-22)\n",
      "Enter your logout time(time (date):16:15 (11-11-22)\n",
      "\n",
      " ---------------------------------------\n",
      "Attendence added successfully\n",
      "\n",
      "\n",
      "Attendence details:(Name -- login time (date) -- logout time (data)\n",
      "---------------------------------------\n",
      "Uday -- 14:15 (11-11-22) -- 16:15 (11-11-22)\n",
      "Sai kiran -- 14:15 (11-11-22) -- 16:15 (11-11-22)\n",
      "Purna -- 14:15 (11-11-22) -- 16:15 (11-11-22)\n",
      "Riya -- 14:15 (11-11-22) -- 16:15 (11-11-22)\n",
      "Shafeq -- 14:15 (11-11-22) -- 16:15 (11-11-22)\n",
      "\n"
     ]
    }
   ],
   "source": [
    "addAttendence()\n",
    "addAttendence()\n",
    "addAttendence()\n",
    "addAttendence()\n",
    "addAttendence()\n",
    "print('\\n')\n",
    "checkAttendence()"
   ]
  }
 ],
 "metadata": {
  "kernelspec": {
   "display_name": "Python 3 (ipykernel)",
   "language": "python",
   "name": "python3"
  },
  "language_info": {
   "codemirror_mode": {
    "name": "ipython",
    "version": 3
   },
   "file_extension": ".py",
   "mimetype": "text/x-python",
   "name": "python",
   "nbconvert_exporter": "python",
   "pygments_lexer": "ipython3",
   "version": "3.9.13"
  }
 },
 "nbformat": 4,
 "nbformat_minor": 5
}
