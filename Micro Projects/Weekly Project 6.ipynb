{
 "cells": [
  {
   "cell_type": "markdown",
   "id": "548b4ecb",
   "metadata": {},
   "source": [
    "## A program to convert CSV files to numpy array"
   ]
  },
  {
   "cell_type": "code",
   "execution_count": 7,
   "id": "27a162ed",
   "metadata": {},
   "outputs": [
    {
     "name": "stdout",
     "output_type": "stream",
     "text": [
      "[[ 9 10 11]\n",
      " [12 13 14]\n",
      " [15 16 17]]\n"
     ]
    }
   ],
   "source": [
    "import numpy as np\n",
    "arr=np.loadtxt(\"array.csv\",dtype = float  ,delimiter=',') #Converts the text into multidimensional array\n",
    "print(arr)"
   ]
  }
 ],
 "metadata": {
  "kernelspec": {
   "display_name": "Python 3 (ipykernel)",
   "language": "python",
   "name": "python3"
  },
  "language_info": {
   "codemirror_mode": {
    "name": "ipython",
    "version": 3
   },
   "file_extension": ".py",
   "mimetype": "text/x-python",
   "name": "python",
   "nbconvert_exporter": "python",
   "pygments_lexer": "ipython3",
   "version": "3.9.13"
  }
 },
 "nbformat": 4,
 "nbformat_minor": 5
}
