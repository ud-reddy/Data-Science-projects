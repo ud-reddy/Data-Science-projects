{
 "cells": [
  {
   "cell_type": "markdown",
   "id": "3287decb",
   "metadata": {},
   "source": [
    "## To write data on a text file"
   ]
  },
  {
   "cell_type": "code",
   "execution_count": 4,
   "id": "c2604c36",
   "metadata": {},
   "outputs": [
    {
     "name": "stdout",
     "output_type": "stream",
     "text": [
      "Enter the file type(existing or new):existing\n",
      "Enter the file name : test1.txt\n",
      "Enter the no of lines of data you want to enter : 3\n",
      "Enter line 1:line 6\n",
      "Enter line 2:line 7\n",
      "Enter line 3:line 8\n",
      "The data has been written to the file succesfully!\n"
     ]
    }
   ],
   "source": [
    "filetype = input(\"Enter the file type(existing or new):\")\n",
    "name = input(\"Enter the file name : \")\n",
    "if filetype.lower()=='existing':\n",
    "    f=open(name,'a')\n",
    "    n=int(input(\"Enter the no of lines of data you want to enter : \"))\n",
    "    for i in range(n):\n",
    "        print(\"Enter line\",i+1,end=':')\n",
    "        data = input()\n",
    "        f.write(data+'\\n')\n",
    "    f.close()\n",
    "    print(\"The data has been written to the file succesfully!\")\n",
    "elif filetype.lower()=='new':\n",
    "    f=open(name,'w')\n",
    "    n=int(input(\"Enter the no of lines of data you want to enter : \"))\n",
    "    for i in range(n):\n",
    "        print(\"Enter line\",i+1,end=':')\n",
    "        data = input()\n",
    "        data += '\\n'\n",
    "        f.write(data)\n",
    "    f.close()\n",
    "    print(\"The data has been written to the file succesfully!\")\n",
    "else:\n",
    "    print(\"Enter valid file type!(existing or new)\")"
   ]
  }
 ],
 "metadata": {
  "kernelspec": {
   "display_name": "Python 3 (ipykernel)",
   "language": "python",
   "name": "python3"
  },
  "language_info": {
   "codemirror_mode": {
    "name": "ipython",
    "version": 3
   },
   "file_extension": ".py",
   "mimetype": "text/x-python",
   "name": "python",
   "nbconvert_exporter": "python",
   "pygments_lexer": "ipython3",
   "version": "3.9.13"
  }
 },
 "nbformat": 4,
 "nbformat_minor": 5
}
